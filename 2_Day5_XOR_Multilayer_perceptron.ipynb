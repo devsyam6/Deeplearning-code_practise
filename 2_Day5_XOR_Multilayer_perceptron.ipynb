{
 "cells": [
  {
   "cell_type": "code",
   "execution_count": 5,
   "metadata": {},
   "outputs": [
    {
     "data": {
      "text/plain": [
       "3000"
      ]
     },
     "execution_count": 5,
     "metadata": {},
     "output_type": "execute_result"
    }
   ],
   "source": [
    "from sklearn.model_selection import train_test_split\n",
    "\n",
    "X= [[0, 0], [0, 1], [1, 0], [1, 1]] * 1000\n",
    "y = [0,1,1,0] *1000\n",
    " \n",
    "X_train,X_test,y_train,y_test = train_test_split(X,y,random_state = 3)\n",
    "\n",
    "len(X_train)"
   ]
  },
  {
   "cell_type": "code",
   "execution_count": 10,
   "metadata": {},
   "outputs": [
    {
     "data": {
      "text/plain": [
       "MLPClassifier(activation='logistic', hidden_layer_sizes=[2], random_state=3,\n",
       "              solver='sgd')"
      ]
     },
     "execution_count": 10,
     "metadata": {},
     "output_type": "execute_result"
    }
   ],
   "source": [
    "from sklearn.neural_network import MLPClassifier\n",
    "model = MLPClassifier(hidden_layer_sizes=[2],activation='logistic',solver ='sgd',random_state = 3)\n",
    "model.fit(X_train,y_train)"
   ]
  },
  {
   "cell_type": "markdown",
   "metadata": {},
   "source": [
    "## Param : activation{‘identity’, ‘logistic’, ‘tanh’, ‘relu’}, default=’relu’\n",
    "### Activation function for the hidden layer.\n",
    "\n",
    "###  ‘identity’, no-op activation, useful to implement linear bottleneck, returns f(x) = x - used for regression problems\n",
    "\n",
    "### ‘logistic’, the logistic sigmoid function, returns f(x) = 1 / (1 + exp(-x)).\n",
    "\n",
    "### ‘tanh’, the hyperbolic tan function, returns f(x) = tanh(x).\n",
    "\n",
    "### ‘relu’, the rectified linear unit function, returns f(x) = max(0, x)"
   ]
  },
  {
   "cell_type": "code",
   "execution_count": 9,
   "metadata": {},
   "outputs": [
    {
     "name": "stdout",
     "output_type": "stream",
     "text": [
      "No. of hidden layers[2] and No. of outputs1\n",
      "Accuracy : 0.5\n"
     ]
    }
   ],
   "source": [
    "print('No. of hidden layers{0} and No. of outputs{1}'.format(model.hidden_layer_sizes,model.n_outputs_))\n",
    "predict = model.predict(X_test)\n",
    "\n",
    "print('Accuracy :',model.score(X_test,y_test))\n"
   ]
  },
  {
   "cell_type": "code",
   "execution_count": 14,
   "metadata": {},
   "outputs": [
    {
     "name": "stdout",
     "output_type": "stream",
     "text": [
      "Actual : 1 , Predicted : 0\n",
      "Actual : 1 , Predicted : 0\n",
      "Actual : 1 , Predicted : 0\n",
      "Actual : 0 , Predicted : 1\n",
      "Actual : 1 , Predicted : 1\n",
      "Actual : 0 , Predicted : 0\n",
      "Actual : 0 , Predicted : 1\n",
      "Actual : 1 , Predicted : 1\n",
      "Actual : 0 , Predicted : 0\n",
      "Actual : 1 , Predicted : 0\n"
     ]
    }
   ],
   "source": [
    "for i,p in enumerate(predict[:10]):\n",
    "    print('Actual : %s , Predicted : %s'%(y_test[i],p))"
   ]
  },
  {
   "cell_type": "code",
   "execution_count": null,
   "metadata": {},
   "outputs": [],
   "source": []
  }
 ],
 "metadata": {
  "kernelspec": {
   "display_name": "Python 3",
   "language": "python",
   "name": "python3"
  },
  "language_info": {
   "codemirror_mode": {
    "name": "ipython",
    "version": 3
   },
   "file_extension": ".py",
   "mimetype": "text/x-python",
   "name": "python",
   "nbconvert_exporter": "python",
   "pygments_lexer": "ipython3",
   "version": "3.7.9"
  }
 },
 "nbformat": 4,
 "nbformat_minor": 4
}
