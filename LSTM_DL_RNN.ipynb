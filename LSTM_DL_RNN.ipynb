{
 "cells": [
  {
   "cell_type": "code",
   "execution_count": 46,
   "metadata": {},
   "outputs": [],
   "source": [
    "import collections\n",
    "ftrain=open('F:\\\\python_virt\\\\training_sentimental.txt','r',encoding='UTF8')\n",
    "#print(ftrain)\n",
    "maxlen=0 # to check the maximum length of word document\n",
    "word_freq=collections.Counter() # to check each word's frequency in entire documents\n",
    "num_recs=0 # Number of recordings or instances of data\n"
   ]
  },
  {
   "cell_type": "code",
   "execution_count": 47,
   "metadata": {},
   "outputs": [],
   "source": [
    "import nltk\n",
    "for line in ftrain:\n",
    "    label,sentence=line.strip().split('\\t')\n",
    "    #print(label,sentence)\n",
    "    words=nltk.word_tokenize(sentence.lower())\n",
    "    #print(len(words))\n",
    "    #print(words)\n",
    "    if len(words)>maxlen:\n",
    "        maxlen=len(words)\n",
    "    for word in words:\n",
    "        word_freq[word]+=1\n",
    "    num_recs+=1\n",
    "ftrain.close()"
   ]
  },
  {
   "cell_type": "code",
   "execution_count": 48,
   "metadata": {},
   "outputs": [
    {
     "name": "stdout",
     "output_type": "stream",
     "text": [
      "max_len: 42\n",
      "num_recs: 7086\n"
     ]
    }
   ],
   "source": [
    "print('max_len:',maxlen) # sentence having maximum length\n",
    "print('num_recs:',num_recs)"
   ]
  },
  {
   "cell_type": "code",
   "execution_count": 49,
   "metadata": {},
   "outputs": [
    {
     "name": "stdout",
     "output_type": "stream",
     "text": [
      ".\n",
      "3558\n",
      "2326\n"
     ]
    }
   ],
   "source": [
    "print(word)\n",
    "print(word_freq[word])\n",
    "#print(word_freq)\n",
    "print(len(word_freq))"
   ]
  },
  {
   "cell_type": "code",
   "execution_count": 50,
   "metadata": {},
   "outputs": [],
   "source": [
    "MAX_FEATURES=2000\n",
    "MAX_SENTENCE_LENGTH=40 "
   ]
  },
  {
   "cell_type": "code",
   "execution_count": 51,
   "metadata": {},
   "outputs": [
    {
     "name": "stdout",
     "output_type": "stream",
     "text": [
      "2002\n"
     ]
    }
   ],
   "source": [
    "vocab_size=min(MAX_FEATURES,len(word_freq))+2\n",
    "print(vocab_size)"
   ]
  },
  {
   "cell_type": "code",
   "execution_count": 52,
   "metadata": {},
   "outputs": [
    {
     "name": "stdout",
     "output_type": "stream",
     "text": [
      "2002\n"
     ]
    }
   ],
   "source": [
    "word2index={x[0]:i+2 for i,x in enumerate(word_freq.most_common(MAX_FEATURES))}\n",
    "#print(word2index)\n",
    "word2index['PAD']=0\n",
    "word2index['UNK']=1\n",
    "#print(word2index)\n",
    "print(len(word2index))\n",
    " # or same thing can convert to index to word format from this step itself\n",
    "# by calling in reverse order at dictionary, \n",
    "# which is described in cell after next cell"
   ]
  },
  {
   "cell_type": "code",
   "execution_count": 53,
   "metadata": {},
   "outputs": [
    {
     "name": "stdout",
     "output_type": "stream",
     "text": [
      "{2: 'i', 3: ',', 4: '.', 5: 'the', 6: 'and', 7: '!', 8: 'harry', 9: 'vinci', 10: 'da', 11: 'brokeback', 12: 'code', 13: 'mountain', 14: 'potter', 15: '...', 16: 'love', 17: 'is', 18: 'a', 19: 'was', 20: 'mission', 21: 'impossible', 22: 'awesome', 23: 'like', 24: 'it', 25: 'to', 26: 'movie', 27: 'that', 28: \"'s\", 29: 'because', 30: 'sucks', 31: 'hate', 32: 'sucked', 33: 'so', 34: 'as', 35: 'my', 36: '``', 37: 'much', 38: 'of', 39: 'really', 40: 'movies', 41: 'stupid', 42: 'you', 43: 'down', 44: 'but', 45: 'we', 46: 'be', 47: 'with', 48: 'just', 49: 'one', 50: 'know', 51: 'potter..', 52: 'suck', 53: 'out', 54: '3', 55: 'who', 56: '/', 57: 'or', 58: 'am', 59: 'loved', 60: 'want', 61: 'into', 62: 'which', 63: 'right', 64: 'for', 65: 'an', 66: \"n't\", 67: 'this', 68: 'me', 69: ':', 70: 'are', 71: 'think', 72: 'not', 73: 'how', 74: 'if', 75: 'depressing', 76: 'people', 77: 'his', 78: 'would', 79: 'up', 80: 'reading', 81: 'why', 82: 'series', 83: 'there', 84: 'in', 85: 'only', 86: 'fucking', 87: 'terrible', 88: 'she', 89: 'oh', 90: 'story', 91: 'being', 92: '..', 93: 'left', 94: 'ok', 95: 'guy', 96: 'here', 97: 'start', 98: 'felicia', 99: '(', 100: 'have', 101: 'book', 102: 'about', 103: 'beautiful', 104: 'good', 105: 'also', 106: 'too', 107: 'on', 108: 'went', 109: 'do', 110: 'read', 111: 'at', 112: 'then', 113: 'can', 114: 'saw', 115: 'first', 116: 'by', 117: 'tom', 118: 'more', 119: 'thought', 120: 'most', 121: '2', 122: 'liked', 123: 'way', 124: 'from', 125: 'absolutely', 126: 'still', 127: 'horrible', 128: 'well', 129: 'time', 130: 'got', 131: 'awesome..', 132: 'he', 133: 'when', 134: 'big', 135: 'heard', 136: 'ever', 137: 'were', 138: 'what', 139: 'watch', 140: 'film', 141: 'going', 142: 'great', 143: 'better', 144: 'such', 145: 'things', 146: 'does', 147: 'last', 148: 'said', 149: '?', 150: 'ca', 151: '=', 152: 'yeah', 153: 'gay', 154: 'boring', 155: 'both', 156: 'watching', 157: 'again', 158: 'wait', 159: 'making', 160: 'never', 161: 'man', 162: 'same', 163: \"'re\", 164: '’', 165: 'these', 166: 'excellent', 167: 'friday', 168: 'friends', 169: 'always', 170: 'person', 171: 'sucked..', 172: 'opinion', 173: 'anyone', 174: 'na', 175: 'cool', 176: 'him', 177: 'says', 178: 'cock', 179: 'side', 180: 'make', 181: 'rocks', 182: 'take', 183: 'anyway', 184: 's', 185: 'fun', 186: 'mom', 187: 'where', 188: 'worth', 189: 'around', 190: 'either', 191: 'knows', 192: 'thats', 193: 'luv', 194: 'wanted', 195: 'dad', 196: 'care', 197: 'freakin', 198: 'character', 199: 'daniel', 200: 'community', 201: 'main', 202: 'place', 203: 'hates', 204: 'review', 205: 'b', 206: 'crazy', 207: 'stand', 208: 'begin', 209: 'turned', 210: 'soo', 211: 'gon', 212: 'reality', 213: 'bitch', 214: 'table', 215: 'type', 216: 'dies', 217: 'cowboy', 218: 'hat', 219: 'snuck', 220: 'awards', 221: 'acceptable', 222: 'becoming', 223: 'past', 224: 'needs', 225: 'head', 226: 'horrible..', 227: 'seen..', 228: 'desperately', 229: \"love'the\", 230: 'lubb', 231: 'hoot', 232: 'silent', 233: 'hill', 234: 'coz', 235: 'hella', 236: 'goin', 237: 'sentry', 238: 'station', 239: 'bonkers', 240: 'cleaning', 241: 'grabs', 242: 'keys', 243: 'dash', 244: 'kirsten', 245: 'leah', 246: 'kate', 247: 'escapades', 248: 'joining', 249: 'deep', 250: 'profound', 251: 'differently', 252: 'serious', 253: 'count', 254: 'catcher', 255: 'tye', 256: 'jane', 257: 'eyre', 258: 'virgin', 259: 'suicides', 260: \"'yeah\", 261: 'acne', 262: \"'..\", 263: 'dudeee', 264: 'homosexuality', 265: 'hung', 266: 'kelsie', 267: 'combining', 268: 'gary', 269: 'gin', 270: 'zen', 271: 'letting', 272: '2.5', 273: 'stars', 274: 'quiz', 275: 'bye..', 276: 'retarted', 277: 'black', 278: 'outshines', 279: 'material', 280: 'plain', 281: 'likes', 282: 'dragged', 283: 'draco', 284: 'malfoy', 285: 'trousers', 286: 'hips', 287: 'throat', 288: 'vigor', 289: 'whimpering', 290: 'noises', 291: 'panting', 292: 'groaning', 293: 'blonds', 294: 'rock-hard', 295: 'aching', 296: 'wotshisface', 297: 'slap', 298: 'helped', 299: 'bobbypin', 300: 'insanely', 301: 'laughed', 302: 'jokes..', 303: 'sit', 304: 'mtv', 305: 'reminded', 306: 'despised', 307: 'see', 308: ')', 309: 'iii', 310: 'hated', 311: 'all', 312: \"'m\", 313: 'did', 314: 'pretty', 315: 'though', 316: 'evil', 317: 'even', 318: 'ass', 319: 'books', 320: 'say', 321: 'they', 322: '*', 323: 'go', 324: 'had', 325: 'lot', 326: 'now', 327: 'get', 328: 'other', 329: 'will', 330: 'after', 331: 'cruise', 332: 'very', 333: 'some', 334: '--', 335: '<', 336: 'its', 337: 'watched', 338: 'amazing', 339: 'best', 340: 'kinda', 341: 'than', 342: 'actually', 343: 'no', 344: 'balls', 345: 'seen', 346: 'already', 347: 'made', 348: 'awful', 349: 'thing', 350: 'has', 351: 'may', 352: 'two', 353: 'sad', 354: 'second', 355: 'since', 356: 'lol', 357: 'mountain..', 358: \"'ve\", 359: \"'d\", 360: 'over', 361: 'off', 362: 'us', 363: 'new', 364: 'miss', 365: 'far', 366: \"'ll\", 367: 'been', 368: 'enjoy', 369: 'night', 370: '&', 371: '[', 372: 'tell', 373: ']', 374: 'shit', 375: 'should', 376: \"'\", 377: 'three', 378: 'everyone', 379: 'action', 380: 'theme', 381: 'before', 382: 'your', 383: 'real', 384: 'could', 385: 'talk', 386: 'crash', 387: 'those', 388: 'code..', 389: 'enjoyed', 390: 'yet', 391: 'having', 392: 'looks', 393: 'while', 394: 'bad', 395: 'them', 396: 'life', 397: '>', 398: 'try', 399: 'sucks..', 400: 'course', 401: 'something', 402: 'wrong', 403: 'hey', 404: 'interesting', 405: 'times', 406: 'totally', 407: 'mean', 408: 'talking', 409: 'else', 410: 'feel', 411: 'little', 412: 'sure', 413: 'thinking', 414: 'glad', 415: 'anything', 416: 'world', 417: 'demons', 418: 'bit', 419: 'quite', 420: 'seeing', 421: 'finished', 422: 'lost', 423: 'our', 424: 'movie..', 425: 'x-men', 426: 'day', 427: 'back', 428: 'almost', 429: 'long', 430: 'year', 431: 'fan', 432: 'fact', 433: 'freaking', 434: 'school', 435: 'picture', 436: 'might', 437: 'kids', 438: 'okay', 439: 'saying', 440: 'fandom', 441: 'every', 442: 'much..', 443: 'told', 444: 'cowboys', 445: 'god', 446: '-', 447: 'crappy', 448: 'sucking', 449: 'angels', 450: 'few', 451: 'personally', 452: 'crap', 453: 'probably', 454: 'im', 455: 'sick', 456: 'must', 457: 'their', 458: 'until', 459: 'end', 460: 'kind', 461: 'novel', 462: 'luck', 463: 'officially', 464: 'tonight', 465: 'doing', 466: 'least', 467: 'stories', 468: 'theater', 469: 'show', 470: 'money', 471: 'used', 472: 'culture', 473: 'lord', 474: 'rings', 475: '”', 476: 'apparently', 477: 'through', 478: 'news', 479: 'won', 480: 'give', 481: 'bogus', 482: 'inaccurate', 483: 'hear', 484: 'mother', 485: 'own', 486: 'different', 487: 'girl', 488: 'idea', 489: 'telling', 490: 'music', 491: 'omg', 492: 'damn', 493: 'half', 494: 'week', 495: 'wan', 496: 'too..', 497: 'come', 498: 'jesus', 499: 'move', 500: 'funny', 501: 'days', 502: '3..', 503: 'played', 504: 'finally', 505: 'fell', 506: 'song', 507: 'classes', 508: 'fire', 509: 'films', 510: 'yes', 511: 'comes', 512: 'children', 513: 'club', 514: 'fuck', 515: 'sexy', 516: 'part', 517: 'someone', 518: 'ta', 519: 'incredibly', 520: 'once', 521: 'decided', 522: 'hope', 523: 'oscar', 524: 'shitty', 525: 'ass..', 526: 'majorly', 527: 'major', 528: 'john', 529: 'woo', 530: '$', 531: 'georgia', 532: 'her', 533: 'board', 534: 'nearly', 535: 'hollywood', 536: ';', 537: 'religious', 538: 'heart', 539: 'hard', 540: 'dan', 541: 'brown', 542: 'lit', 543: 'absurd', 544: 'next', 545: 'books..', 546: 'pages', 547: '+', 548: 'besides', 549: 'myself', 550: 'many', 551: 'came', 552: 'agree', 553: 'hell', 554: 'playing', 555: 'hedge', 556: 'given', 557: 'kick', 558: 'stayed', 559: 'update', 560: 'sort', 561: 'fat', 562: 'rent', 563: 'looking', 564: 'nothing', 565: 'ten', 566: 'top', 567: 'gun', 568: 'stop', 569: 'cuz', 570: 'anyways', 571: 'ask', 572: 'wondering', 573: 'except', 574: 'rather', 575: 'let', 576: 'especially', 577: 'between', 578: 'shows', 579: 'stuff', 580: 'minutes', 581: 'example', 582: 'goblet', 583: '�', 584: 'eragon', 585: '6th', 586: 'wish', 587: 'write', 588: 'loves', 589: 'm', 590: 'deal', 591: 'fanfiction', 592: 'any', 593: '4', 594: 'win', 595: 'gorgeous', 596: 'level', 597: '_', 598: 'case', 599: 'comment', 600: 'felt', 601: 'none', 602: 'college', 603: 'death', 604: 'halloween', 605: 'need', 606: 'gift', 607: 'nc-17', 608: 'taking', 609: 'food', 610: 'sorry', 611: 'along', 612: 'during', 613: 'hands', 614: 'short', 615: 'thank', 616: 'jake', 617: 'ban', 618: 'critics', 619: 'jack', 620: 'cried', 621: 'racism', 622: 'better..-we', 623: 'worthless', 624: 'audrey', 625: 'tautou', 626: 'work', 627: 'erm', 628: 'looked', 629: 't', 630: 'passion', 631: 'donkey', 632: 'suck..', 633: 'stinks', 634: 'conclusion', 635: 'true', 636: 'lame', 637: 'whole', 638: 'god-awful', 639: '“', 640: 'bullshit', 641: 'rant', 642: 'evil..', 643: 'dont', 644: 'mouth', 645: 'live', 646: 'extremely', 647: 'disliked', 648: 'hold', 649: 'buy', 650: 'ive', 651: 'turn', 652: 'figures', 653: 'old', 654: 'takes', 655: 'normal', 656: 'biased', 657: 'able', 658: 'equal', 659: 'nor', 660: 'cold', 661: 'page', 662: 'awesomest', 663: 'sounds', 664: 'aaron', 665: 'knew', 666: 'took', 667: 'book..', 668: 'recently', 669: 'theaters', 670: 'against', 671: 'religion', 672: 'together', 673: 'whatever', 674: 'lah', 675: 'soon', 676: 'ones', 677: 'hanks', 678: 'sooo', 679: 'hating', 680: 'awesomeness', 681: 'hardcore', 682: 'fireworks', 683: '‘', 684: 'accompaniment', 685: 'whistles', 686: 'bangs', 687: 'colourfully', 688: 'sky', 689: 'events', 690: 'drive', 691: 'haunt', 692: '-and', 693: 'yea', 694: 'fall', 695: 'class', 696: 'trailers', 697: 'catch', 698: 'flick', 699: 'saturday', 700: 'job', 701: 'ticket', 702: '7', 703: 'run', 704: 'sing', 705: 'makes', 706: 'cute', 707: 'problem', 708: 'geek', 709: 'tickets', 710: 'definitely', 711: 'instead', 712: 'btw', 713: 'x', 714: 'meeting', 715: 'party', 716: 'special', 717: 'ya', 718: 'definately', 719: 'hide', 720: 'feeling', 721: 'hot', 722: 'third', 723: 'scene', 724: 'chris', 725: 'showing', 726: 'pictures', 727: 'guys', 728: 'putting', 729: 'pocket', 730: 'hero', 731: 'tv', 732: 'although', 733: 'tc', 734: 'issues', 735: 'play', 736: 'impossible..', 737: 'joke', 738: 'girls', 739: 'maybe', 740: 'politics', 741: 'house', 742: 'proud', 743: 'ron', 744: 'favourite', 745: 're-reading', 746: 'half-blood', 747: 'prince', 748: 'final', 749: 'shoes', 750: 'stone', 751: 'j.', 752: 'k.', 753: 'rowling', 754: 'strangely', 755: 'hp', 756: 'fanfic', 757: 'kid', 758: 'perhaps', 759: 'often', 760: 'decent', 761: 'enough', 762: 'suppose', 763: 'pop', 764: 'funniest', 765: 'costumes', 766: 'la', 767: 'narnia', 768: 'disney', 769: 'eating', 770: 'fault', 771: 'empty', 772: 'dream', 773: 'body', 774: 'nerd', 775: 'ruined', 776: 'fabulous', 777: 'scar', 778: 'bought', 779: '–', 780: 'adult', 781: 'adorable', 782: 'everything', 783: \"y'all\", 784: 'author', 785: 'friend', 786: 'student', 787: 'forgotten', 788: 'dragons', 789: 'hogwarts', 790: 'emma', 791: 'watson', 792: 'brilliant', 793: '~', 794: 'popular', 795: 'craze', 796: 'word', 797: 'fic', 798: 'vampire', 799: 'n', 800: 'sivullinen', 801: 'requested', 802: 'het', 803: 'quizzes', 804: 'future', 805: 'till', 806: 'simply', 807: 'writing', 808: 'sense', 809: 'conquering', 810: 'friendships', 811: 'formed', 812: 'related', 813: 'christmas', 814: 'whether', 815: 'stopped', 816: 'months', 817: 'idk', 818: 'honor', 819: 'cry', 820: 'asking', 821: 'queer', 822: 'heath', 823: 'dick', 824: 'yesterday', 825: 'asian', 826: 'beautiful..', 827: 'copy', 828: 'choice', 829: 'kiss', 830: 'unbelievably', 831: '©', 832: 'asleep', 833: 'mentioned', 834: 'capote', 835: 'mention', 836: 'ang', 837: 'u', 838: 'understand', 839: 'industry', 840: 'rest', 841: 'acting', 842: 'deserved', 843: 'full', 844: 'carefully', 845: 'happy', 846: 'generally', 847: 'score', 848: 'white', 849: 'mainstream', 850: 'challenge', 851: 'actor', 852: 'super', 853: '-we', 854: 'written', 855: 'expected', 856: 'question', 857: 'beat', 858: 'boring..', 859: 'piece', 860: 'butt', 861: 'code-sucked', 862: 'loathe', 863: 'lie', 864: 'favorite', 865: 'everybody', 866: 'hoover', 867: 'less', 868: 'hopefully', 869: 'coming', 870: 'name', 871: 'due', 872: 'weekend', 873: 'couple', 874: 'didnt', 875: 'compared', 876: 'use', 877: 'reaction', 878: 'royally', 879: 'attempt', 880: 'johnny', 881: 'article', 882: 'draw', 883: 'christian', 884: 'beans', 885: 'wo', 886: 'getting', 887: 'tho', 888: 'chinese', 889: 'nice', 890: 'mi3', 891: 'please', 892: 'tired', 893: 'franchise', 894: 'ran', 895: 'cocktail', 896: 'phillip', 897: 'hoffman', 898: 'laid', 899: 'egg', 900: 'cringe', 901: 'whenever', 902: 'respect', 903: 'lousy', 904: 'point', 905: 'fit', 906: 'aka', 907: 'dumb', 908: 'actual', 909: 'blame', 910: 'ending', 911: 'dementors', 912: 'costume', 913: 'tea', 914: 'infuser', 915: 'die', 916: 'sometimes', 917: 'wesley', 918: 'captain', 919: 'picard', 920: 'douche', 921: 'tragic', 922: 'bible', 923: 'libraries', 924: 'witchcraft', 925: 'color', 926: 'dance', 927: 'obnoxious', 928: 'thinks', 929: 'it..', 930: 'thousand', 931: 'ultimate', 932: 'marvel', 933: 'education', 934: 'exquisite', 935: 'marcia', 936: 'gaither', 937: 'teaches', 938: 'wiccanism', 939: 'controversy', 940: 'working', 941: 'overall', 942: 'lords', 943: 'soul', 944: 'equally', 945: 'ago', 946: 'opened', 947: 'dictate', 948: 'reply', 949: 'cut', 950: 'mirror', 951: 'speaking', 952: 'home', 953: 'goth', 954: 'academy', 955: 'gayness', 956: 'tried', 957: '10', 958: 'tale', 959: '\\x80', 960: '\\x99', 961: 'rented', 962: 'twist', 963: 'record', 964: 'murderball-immediately', 965: 'robbed', 966: 'favor', 967: 'dislike', 968: 'shittiest', 969: 'clive', 970: 'cussler', 971: 'relic', 972: 'plausible', 973: 'ultimatly', 974: 'seem', 975: 'exaggeration', 976: 'midnight', 977: 'wal-mart', 978: 'kite', 979: 'runner', 980: 'light', 981: 'radio', 982: 'mind', 983: 'slash', 984: 'race', 985: 'disappointed', 986: '#', 987: '8230', 988: 'backtory', 989: 'various', 990: 'historical', 991: 'scifi', 992: 'ian', 993: 'mckellen', 994: 'husband', 995: 'joe', 996: 'bridget', 997: 'jones', 998: 'appeals', 999: 'chick', 1000: 'arenas', 1001: 'genre', 1002: 'explore', 1003: 'novels', 1004: 'soundtrack', 1005: 'pleased', 1006: 'open-mindedness', 1007: 'enjoyment', 1008: 'reads', 1009: 'ripping', 1010: 'acoustic', 1011: 'neither', 1012: 'amazingly', 1013: 'possibly', 1014: 'figure', 1015: '286', 1016: 'seriously', 1017: 'probable', 1018: 'fr', 1019: 'code-that', 1020: 'raises', 1021: 'theological', 1022: 'questions', 1023: '\\x92', 1024: 'tour', 1025: 'inside', 1026: '3333', 1027: 'onto', 1028: 'angel', 1029: 'code-illustrated', 1030: 'edition', 1031: 'thriller', 1032: \"code'it\", 1033: 'code-very', 1034: 'angle', 1035: 'friggin', 1036: '30', 1037: 'undercover', 1038: 'outta', 1039: 'drowining', 1040: 'lynn', 1041: 'jon', 1042: 'code-other', 1043: 'luau', 1044: 'gasp', 1045: 'protests', 1046: 'share', 1047: 'idiots', 1048: 'dating', 1049: 'sister', 1050: 'admired', 1051: 'bachelor', 1052: 'beyond', 1053: 'tome', 1054: 'unauthorized', 1055: 'deals', 1056: 'inspired', 1057: 'ridiculous', 1058: 'panties', 1059: 'bunch', 1060: 'heresies', 1061: 'blashpemies', 1062: 'allegedly', 1063: 'contains', 1064: 'decide', 1065: 'ti', 1066: 'hand', 1067: 'hooked', 1068: 'melbourne', 1069: 'hahash', 1070: 'tooo', 1071: 'honestly', 1072: 'awesome-good', 1073: 'ur', 1074: 'tennis', 1075: 'tournament..', 1076: 'america', 1077: 'supporting', 1078: \"book'da\", 1079: 'finshed', 1080: 'comprehend', 1081: 'explain', 1082: 'power', 1083: 'ps', 1084: 'exciting', 1085: 'wow', 1086: 'updated', 1087: 'hammy', 1088: 'rocks..', 1089: 'unpredictable', 1090: 'spy', 1091: 'scenario', 1092: 'astonishingly', 1093: 'free', 1094: 'three-generation', 1095: 'team', 1096: 'infiltrate', 1097: 'hour', 1098: 'doors', 1099: 'open', 1100: 'wicked', 1101: '10.9', 1102: 'gym', 1103: 'suspenseful', 1104: 'plus', 1105: 'attached', 1106: 'clarksville', 1107: 'summer', 1108: 'grown', 1109: 'teevee', 1110: 'cant', 1111: 'eek', 1112: 'rolled', 1113: 'fallon', 1114: 'convo', 1115: 'daddy', 1116: 'speaker', 1117: 'exelent', 1118: 'game', 1119: 'jamie', 1120: '8', 1121: 'lil', 1122: 'bro', 1123: 'tied', 1124: 'mall', 1125: 'shopping', 1126: 'wacked', 1127: 'however', 1128: 'matters', 1129: 'pressing', 1130: 'alarm', 1131: 'codes', 1132: 'fortress..', 1133: 'excersizing', 1134: 'funner', 1135: 'latest', 1136: 'kicked', 1137: 'period', 1138: 'characterization', 1139: 'effects', 1140: 'pretending', 1141: 'moives', 1142: 'mindless', 1143: 'tech', 1144: 'small', 1145: 'cars', 1146: 'etc', 1147: 'surprisingly', 1148: 'asshole', 1149: '1', 1150: 'sunday', 1151: 'tests', 1152: 'afterschool', 1153: 'relaxed', 1154: 'ate', 1155: 'margaritas', 1156: 'w', 1157: 'emily', 1158: 'despise', 1159: 'scientology', 1160: 'crusade', 1161: 'stinkin', 1162: '-ike..', 1163: 'holy', 1164: 'fyi-mission', 1165: 'brazil', 1166: 'harrison', 1167: 'viewings', 1168: 'vic', 1169: 'bday', 1170: 'impossible-3..', 1171: 'screening', 1172: 'awesomely', 1173: 'um', 1174: 'trece', 1175: 'bet', 1176: 'blows', 1177: 'exception', 1178: 'eh', 1179: 'experience', 1180: 'camp', 1181: 'setting', 1182: 'land', 1183: 'places', 1184: 'hand..', 1185: 'spin', 1186: 'middle', 1187: 'tan', 1188: 'baby', 1189: 'possum', 1190: 'vault', 1191: 'kelse', 1192: 'spontaneously', 1193: '10pm', 1194: '~..', 1195: 'erin', 1196: 'firstly', 1197: 'lot..', 1198: 'settin', 1199: 'halls', 1200: 'partyin', 1201: 'weekends', 1202: 'clubbin', 1203: 'lunch', 1204: 'causing', 1205: 'disruption', 1206: 'wherever', 1207: 'dart', 1208: 'song..', 1209: 'considered', 1210: 'hooker', 1211: 'gay-scientologist-mission', 1212: 'orig', 1213: 'alright', 1214: 'halle', 1215: 'barry', 1216: 'hugh', 1217: 'jackson', 1218: 'jessica', 1219: 'dumb..', 1220: 'frenzied', 1221: 'phone', 1222: 'calls', 1223: 'laura', 1224: 'garrett', 1225: 'abrams', 1226: 'reason', 1227: 'explosions', 1228: 'straight', 1229: 'row', 1230: 'magic', 1231: 'today', 1232: 'rocked', 1233: 'preview', 1234: 'note', 1235: 'davinci', 1236: 'quip', 1237: 'v', 1238: 'freak', 1239: 'pull', 1240: 'style', 1241: 'th', 1242: 'bond', 1243: 'kicking', 1244: 'throw', 1245: 'jail', 1246: 'break', 1247: 'reader', 1248: 'excited', 1249: 'lines', 1250: 'whom', 1251: 'shadeslayer', 1252: 'truth', 1253: 'philosopher', 1254: 'paper', 1255: 'entitled', 1256: 'twilight', 1257: 'unfortunate', 1258: 'tons', 1259: 'clickfive', 1260: 'cake', 1261: 'texts-fantasy', 1262: 'obviously-is', 1263: 'criticized', 1264: 'oversimplifying', 1265: 'struggle', 1266: 'vs.', 1267: 've', 1268: 'thick', 1269: 'burnt', 1270: 'heavy', 1271: 'enjoying', 1272: 'sawyer', 1273: 'hookup', 1274: 'rereading', 1275: 'picky', 1276: '1st', 1277: '2nd', 1278: 'clearly', 1279: 'planned', 1280: 'biggie', 1281: 'admiring', 1282: 'sisters', 1283: 'collection', 1284: 'waited', 1285: 'planning', 1286: '2007', 1287: 'unfortunately', 1288: 'japenese', 1289: 'food..', 1290: 'undoubtedly', 1291: 'purchase', 1292: 'dvd', 1293: 'walks', 1294: 'beach', 1295: 'oreos', 1296: 'ootp', 1297: 'sixth', 1298: 'desperate', 1299: 'discovered', 1300: 'dork', 1301: 'found', 1302: 'german..', 1303: 'primary', 1304: 'bits', 1305: 'happiness', 1306: 'usually', 1307: 'form', 1308: 'storytimes', 1309: 'occasional', 1310: 'talks', 1311: 'julia', 1312: 'marisa', 1313: 'spec', 1314: 'candy', 1315: 'requim', 1316: 'christopher', 1317: 'creed', 1318: '@', 1319: 'shraddha', 1320: 'lotr', 1321: 'superman', 1322: 'budget', 1323: 'rare', 1324: 'books-not', 1325: 'bootlegged', 1326: 'radcliffe', 1327: 'those..', 1328: 'completely', 1329: 'poem', 1330: 'chance', 1331: 'prize', 1332: 'equus', 1333: 'measure', 1334: 'march', 1335: '31st', 1336: 'artemis', 1337: 'fowl', 1338: 'colony', 1339: 'eoin', 1340: 'colfer', 1341: '385', 1342: 'young', 1343: 'near', 1344: 'realize', 1345: 'mocking..', 1346: \"freagin'love\", 1347: 'magical', 1348: 'lore', 1349: 'personaly', 1350: 'encourage', 1351: 'wholesome', 1352: 'sakes', 1353: 'scarf', 1354: 'christmas..', 1355: 'kept', 1356: 'g', 1357: 'lilo', 1358: 'stitch', 1359: 'barnyard', 1360: 'discuss', 1361: 'theories', 1362: 'sorcerer', 1363: 'low', 1364: 'discussing', 1365: 'learn', 1366: 'appeal', 1367: 'date', 1368: 'jamaica', 1369: 'queens..', 1370: 'earrings', 1371: 'goes', 1372: 'adore', 1373: 'thanks', 1374: '33', 1375: 'task', 1376: 'achieved', 1377: 'icons..', 1378: 'reasons', 1379: 'belong', 1380: 'grey', 1381: 'anatomy', 1382: 'dedicated', 1383: 'friday-harry', 1384: 'feast', 1385: 'spoke', 1386: 'mrs.', 1387: 'cowan', 1388: 'briefly', 1389: 'independent', 1390: 'study', 1391: 'lazy', 1392: 'semester', 1393: 'dorks', 1394: 'delicious', 1395: 'away', 1396: 'enjoys', 1397: 'in-depth', 1398: 'conversations', 1399: 'subjects', 1400: 'interested', 1401: 'intrigued', 1402: 'kick-ass', 1403: 'robe', 1404: 'lends', 1405: 'itself', 1406: 'nicely', 1407: 'deemed', 1408: 'gavin', 1409: 'degraw', 1410: 'beatles', 1411: 'drawing..', 1412: 'fantasy', 1413: 'hall', 1414: 'kaka..', 1415: 'television', 1416: 'screens', 1417: 'perfect', 1418: 'literary', 1419: 'version', 1420: 'adaptation', 1421: 'grips', 1422: 'state', 1423: 'dress', 1424: 'find', 1425: 'anywhere', 1426: 'town', 1427: 'veil', 1428: 'darkness', 1429: 'oceans', 1430: 'phoenix', 1431: 'total', 1432: '517,648', 1433: 'counting', 1434: 'fairly', 1435: 'drawn', 1436: 'deciding', 1437: '7th', 1438: '-..', 1439: 'xd', 1440: 'anime', 1441: 'manga', 1442: 'grow', 1443: 'rehearsal', 1444: 'invisibility', 1445: 'cloak', 1446: 'folows', 1447: 'machine', 1448: 'lets', 1449: 'portuguese', 1450: 'spanish', 1451: '200', 1452: 'you..', 1453: 'explaination', 1454: 'travel', 1455: 'packs', 1456: 'animated', 1457: 'emotes', 1458: 'keep', 1459: 'gettting', 1460: 'fits', 1461: '5', 1462: 'cast', 1463: 'spells', 1464: 'fair', 1465: 'lower', 1466: 'shade', 1467: 'others', 1468: 'book-i', 1469: 'posts', 1470: 'pirates', 1471: 'caribbean', 1472: 'sarcastic', 1473: 'quirky', 1474: 'humor', 1475: 'otp', 1476: 'shipping', 1477: 'winter', 1478: 'specifically', 1479: 'tree', 1480: 'snowing', 1481: 'outside', 1482: 'devastate', 1483: 'included', 1484: 'coloured', 1485: 'intellectual', 1486: 'debates..', 1487: 'irrespective', 1488: 'writes', 1489: 'legacy', 1490: 'grand', 1491: 'finale', 1492: 'lives', 1493: 'hype', 1494: 'younger', 1495: 'sis', 1496: 'theres', 1497: 'avatar', 1498: 'sports', 1499: 'messiah', 1500: 'complex', 1501: 'police', 1502: 'longer', 1503: 'ones..', 1504: 'intense', 1505: 'phase', 1506: 'icons', 1507: 'literature', 1508: 'val', 1509: 'starring', 1510: 'performance', 1511: 'titus', 1512: 'rep', 1513: 'explains', 1514: 'oddly', 1515: 'cover', 1516: 'chronological', 1517: 'ground', 1518: 'unexpected', 1519: 'basically', 1520: 'diversity', 1521: 'shout', 1522: 'esther', 1523: 'calling', 1524: 'screenplay', 1525: 'mph', 1526: 'sale', 1527: 'expo', 1528: 'gosh', 1529: 'lol..', 1530: 'whereas', 1531: 'brother', 1532: 'cousins', 1533: 'parents', 1534: 'amazing..', 1535: 'mountain-watched', 1536: 'twice', 1537: 'genres', 1538: 'eye', 1539: 'gn', 1540: 'gl', 1541: 'important', 1542: 'hyped', 1543: 'mountain-beautiful', 1544: 'sweeping', 1545: 'moving', 1546: 'bbm', 1547: 'rps', 1548: 'figured', 1549: 'interest', 1550: 'picturesque', 1551: 'quaintly', 1552: 'attractive', 1553: 'impressive', 1554: 'tourist', 1555: 'horses', 1556: 'hugged', 1557: 'wranglers', 1558: 'o', 1559: 'story-i', 1560: 'riding', 1561: 'giants', 1562: 'napoleon', 1563: 'dynamite', 1564: 'silly', 1565: 'pc', 1566: 'check', 1567: 'days..', 1568: 'spectacularly', 1569: 'confess', 1570: 'judgement', 1571: '16', 1572: '£', 1573: 'hill-form', 1574: \"ain't..\", 1575: 'springer', 1576: '-yes', 1577: 'supper', 1578: 'latter', 1579: 'tiny', 1580: 'pink', 1581: 'shame', 1582: 'transamerica', 1583: 'apart', 1584: 'lee..', 1585: 'film..', 1586: 'defensive', 1587: 'positions', 1588: 'gays', 1589: 'wonderful', 1590: '33..', 1591: 'discussed', 1592: 'abortion', 1593: 'south', 1594: 'dakota', 1595: 'strip', 1596: 'sexual', 1597: 'crash-and', 1598: 'tells', 1599: 'easy', 1600: 'wondered', 1601: 'happened', 1602: 'ennis', 1603: 'spend', 1604: 'gayer', 1605: 'picnic', 1606: 'basket', 1607: 'haunted', 1608: 'mountain-hard', 1609: 'ignore', 1610: 'photography', 1611: 'madly', 1612: 'p.', 1613: 's.', 1614: 'change', 1615: 'background', 1616: 'tragically', 1617: 'romantic', 1618: 'heartbraking', 1619: 'dearly', 1620: 'truly', 1621: 'ashamed', 1622: 'wept', 1623: 'five', 1624: 'afterwards', 1625: '-it', 1626: 'done', 1627: 'success', 1628: 'derek', 1629: 'heartbreaking', 1630: \"mountain'is\", 1631: 'matter', 1632: 'lee', 1633: 'gyllenhaal', 1634: 'leder', 1635: 'mrs', 1636: 'yip', 1637: 'score-brokeback', 1638: 'changes', 1639: 'receive', 1640: 'director', 1641: 'mountain-this', 1642: 'finish', 1643: 'random', 1644: 'thoughts', 1645: 'bitter', 1646: 'bound', 1647: 'wins', 1648: 'heteronormativity', 1649: 'dissapointed', 1650: 'surprised', 1651: 'packed', 1652: 'sceneries', 1653: '700', 1654: 'million', 1655: 'tomorrow', 1656: 'yahoo', 1657: 'games', 1658: 'truly-awful', 1659: 'code-themed', 1660: 'skin', 1661: 'chessboard', 1662: 'disappointing', 1663: 'fabricated', 1664: 'christianity', 1665: 'bolsters', 1666: 'arguments', 1667: 'england', 1668: 'slow', 1669: 'threw', 1670: 'phenomenon', 1671: 'congrats', 1672: 'beating', 1673: 'jay', 1674: 'rickards', 1675: 'finals', 1676: 'poorly', 1677: 'worst', 1678: 'rachel', 1679: 'nans', 1680: 'libarian', 1681: \"hated'the\", 1682: 'turner', 1683: 'btw..', 1684: 'forget', 1685: 'paul', 1686: 'bentlys', 1687: 'cool..', 1688: 'timings', 1689: 'ended', 1690: 'fer', 1691: 'runaway', 1692: 'vacation', 1693: 'conversation', 1694: 'professors', 1695: 'overslept', 1696: 'jenn', 1697: 'later', 1698: 'ballz', 1699: 'amã', 1700: 'forgot', 1701: '\\\\', 1702: 'nd', 1703: 'x3-good', 1704: 'nacho', 1705: 'libre-sucked', 1706: 'cars-good', 1707: 'hedge-good', 1708: 'hank', 1709: 'smoking-had', 1710: 'moments', 1711: 'bored', 1712: 'coherent', 1713: 'uh', 1714: 'usage', 1715: 'phrase', 1716: 'dogfucking', 1717: 'retarded', 1718: 'worse', 1719: 'started', 1720: 'gathered', 1721: 'lamest', 1722: 'cinema', 1723: 'lama', 1724: 'aimee', 1725: 'fun..-the', 1726: '.-sean', 1727: 'supportive', 1728: 'friend..-indian', 1729: 'reservations', 1730: 'lately', 1731: 'hanging', 1732: 'happen', 1733: 'sometime..', 1734: 'holding', 1735: 'signs', 1736: 'christ', 1737: 'project', 1738: 'witha', 1739: 'blasphying', 1740: 'wide', 1741: 'drove', 1742: 'bayers', 1743: 'lake', 1744: 'dramatic', 1745: 'supposed', 1746: 'hello', 1747: 'cos', 1748: 'effort', 1749: 'mang', 1750: 'latin', 1751: 'around..', 1752: 'anyhow', 1753: 'rofls', 1754: 'howard', 1755: 'google', 1756: 'urls', 1757: 'songs', 1758: 'lucky', 1759: 'refusing', 1760: 'public', 1761: 'place-there', 1762: 'imo', 1763: 'mood', 1764: 'shop', 1765: 'quick', 1766: '..-have', 1767: 'smoked', 1768: 'week..-have', 1769: 'consumed', 1770: 'meat', 1771: 'week..-da', 1772: 'sucked..-love', 1773: 'place..-broke', 1774: 'ideas', 1775: 'sucky', 1776: '.-wish', 1777: 'crack', 1778: 'motherfuckers', 1779: 'tonite..-da', 1780: 'balls..-poseidon', 1781: 'balls..-hooray', 1782: 'memoirs', 1783: 'geisha', 1784: 'kelsey', 1785: 'oceanwalk', 1786: 'rockets', 1787: 'bless', 1788: 'linked', 1789: 'symantec', 1790: 'suing', 1791: 'microsoft', 1792: 'street', 1793: 'without', 1794: 'touching', 1795: 'delayed', 1796: 'banning', 1797: 'omen', 1798: 'muahahaahahah', 1799: 'weeeellllllll', 1800: 'therefor', 1801: 'frakking', 1802: 'media', 1803: 'seems', 1804: 'thirdly-the', 1805: 'post', 1806: 'add', 1807: 'save', 1808: 'showcasing', 1809: 'aniwae', 1810: 'men', 1811: 'today..', 1812: 'trip', 1813: '007..', 1814: 'freshman', 1815: 'itz', 1816: 'altogether', 1817: 'theatan', 1818: 'energy', 1819: 'field', 1820: 'eat', 1821: 'dim', 1822: 'sum', 1823: 'whos', 1824: '2..', 1825: 'extent', 1826: 'man..', 1827: 'rv', 1828: 'predictable', 1829: 'lame..', 1830: 'iii-sucks', 1831: 'big-time', 1832: 'weird', 1833: 'tomkat', 1834: 'back.-jill', 1835: 'staying', 1836: 'weekend.-mission', 1837: 'd', 1838: 'loathed', 1839: 'involving', 1840: 'badness', 1841: 'increasing', 1842: 'exponentially', 1843: 'imagine', 1844: 'sold', 1845: 'flat', 1846: 'shipmates', 1847: 'burbank', 1848: 'calif.', 1849: 'ap', 1850: '-brooke', 1851: 'shields', 1852: 'publicly', 1853: 'apologized', 1854: 'career', 1855: 'including', 1856: 'war', 1857: 'worlds', 1858: 'atrocious', 1859: 'hahaha', 1860: 'search', 1861: 'boycotting', 1862: 'mybutthole', 1863: 'yuh', 1864: 'nasy', 1865: 'c.', 1866: 'joiners', 1867: 'me..', 1868: '9am', 1869: 'aside', 1870: 'seymore', 1871: 'nifty', 1872: 'gadgets', 1873: 'wif', 1874: 'haha', 1875: 'credit', 1876: 'insane', 1877: 'listen', 1878: 'kanye', 1879: 'west', 1880: 'remix..', 1881: 'good..', 1882: 'sequels', 1883: 'facing', 1884: 'richard', 1885: 'simmons..', 1886: 'closet', 1887: 'blogbacklinktitle', 1888: 'blogbacklinksnippet', 1889: 'seymour', 1890: 'simon', 1891: 'pegg', 1892: '^', 1893: 'prediction', 1894: 'correct', 1895: 'boycott', 1896: 'impossible-tom', 1897: 'talkin', 1898: 'bout', 1899: 'mi', 1900: 'agreed', 1901: '.-mission', 1902: 'around..-the', 1903: 'cobequid', 1904: 'health', 1905: 'center', 1906: 'soooooooo', 1907: 'vs', 1908: 'et', 1909: 'al', 1910: 'useless', 1911: 'realized', 1912: 'chunnel', 1913: 'fears', 1914: 'scared', 1915: 'regardless..', 1916: 'track', 1917: 'dumbest', 1918: 'futile', 1919: 'began', 1920: 'teri', 1921: '12', 1922: 'interview', 1923: 'anne', 1924: 'rice', 1925: 'attraction', 1926: 'reopened', 1927: 'release', 1928: 'unable', 1929: 'ignorant', 1930: 'villains', 1931: 'creatures', 1932: 'called', 1933: 'monthly', 1934: 'mad', 1935: 'vintage', 1936: 'silver', 1937: 'shaped', 1938: 'frog', 1939: 'idiot', 1940: 'kenley', 1941: 'decides', 1942: 'plastic', 1943: 'axes', 1944: 'amazes', 1945: 'afraid', 1946: 'shit-i', 1947: 'pastings', 1948: 'mpreg', 1949: 'archive', 1950: 'section', 1951: 'starting', 1952: 'deluded', 1953: 'loose', 1954: 'allegory', 1955: 'wants', 1956: 'local', 1957: 'schools', 1958: 'leads', 1959: 'according', 1960: 'images', 1961: 'lin', 1962: 'pale', 1963: 'comparrison', 1964: 'overlooking', 1965: 'hair', 1966: 'trivia', 1967: 'eyes', 1968: 'absolute', 1969: 'denial', 1970: 'general', 1971: 'involved', 1972: '*..', 1973: 'dumbass', 1974: 'highly', 1975: 'inappropriate', 1976: 'headmistress', 1977: 'office', 1978: 'melandry', 1979: 'fuckers', 1980: 'shut', 1981: 'ripper', 1982: 'following', 1983: 'clips', 1984: 'featured', 1985: 'believably', 1986: 'judging', 1987: 'generated', 1988: 'gives', 1989: 'returning', 1990: 'spite', 1991: 'knowing', 1992: 'clit', 1993: \"was'harry\", 1994: 'everytime', 1995: \"said'harry\", 1996: 'outnumbered', 1997: \"saying'harry\", 1998: 'rules', 1999: 'anax', 2000: 'rife', 2001: 'faked', 0: 'PAD', 1: 'UNK'}\n"
     ]
    }
   ],
   "source": [
    "index2word={v:k for k,v in word2index.items()}\n",
    "print(index2word)"
   ]
  },
  {
   "cell_type": "code",
   "execution_count": 54,
   "metadata": {},
   "outputs": [
    {
     "data": {
      "text/plain": [
       "\"word2index={i+2:x[0] for i,x in enumerate(word_freq.most_common(MAX_FEATURES))}\\nprint(word2index)\\nword2index[0]='PAD'\\nword2index[1]='UNK'\\nprint(word2index)\\nprint(len(word2index))\""
      ]
     },
     "execution_count": 54,
     "metadata": {},
     "output_type": "execute_result"
    }
   ],
   "source": [
    "'''word2index={i+2:x[0] for i,x in enumerate(word_freq.most_common(MAX_FEATURES))}\n",
    "print(word2index)\n",
    "word2index[0]='PAD'\n",
    "word2index[1]='UNK'\n",
    "print(word2index)\n",
    "print(len(word2index))'''"
   ]
  },
  {
   "cell_type": "code",
   "execution_count": 55,
   "metadata": {
    "scrolled": true
   },
   "outputs": [
    {
     "name": "stdout",
     "output_type": "stream",
     "text": [
      "[None None None ... None None None]\n",
      "(7086,)\n"
     ]
    }
   ],
   "source": [
    "import numpy as np\n",
    "x=np.empty((num_recs,),dtype=list)\n",
    "print(x)\n",
    "print(x.shape)"
   ]
  },
  {
   "cell_type": "code",
   "execution_count": 61,
   "metadata": {},
   "outputs": [
    {
     "name": "stdout",
     "output_type": "stream",
     "text": [
      "[0. 0. 0. ... 0. 0. 0.]\n"
     ]
    }
   ],
   "source": [
    "y=np.zeros((num_recs,))\n",
    "print(y)"
   ]
  },
  {
   "cell_type": "code",
   "execution_count": 65,
   "metadata": {
    "scrolled": true
   },
   "outputs": [
    {
     "name": "stdout",
     "output_type": "stream",
     "text": [
      "[list([5, 10, 9, 12, 101, 17, 48, 22, 4])\n",
      " list([67, 19, 5, 115, 969, 970, 2, 358, 136, 110, 3, 44, 317, 319, 23, 971, 3, 6, 10, 9, 12, 137, 118, 972, 341, 67, 4])\n",
      " list([2, 122, 5, 10, 9, 12, 18, 325, 4]) ...\n",
      " list([34, 2, 303, 96, 3, 156, 5, 304, 26, 220, 3, 2, 58, 305, 38, 73, 37, 2, 306, 5, 26, 11, 13, 4])\n",
      " list([94, 11, 13, 17, 144, 18, 127, 26, 4])\n",
      " list([89, 3, 6, 11, 13, 19, 18, 87, 26, 4])]\n"
     ]
    }
   ],
   "source": [
    "ftrain=open('F:\\\\python_virt\\\\training_sentimental.txt','r',encoding='UTF8')\n",
    "i=0\n",
    "for line in ftrain:\n",
    "    label,sentence=line.strip().split('\\t')\n",
    "    #print(label,sentence)\n",
    "    words=nltk.word_tokenize(sentence.lower())\n",
    "    seqs=[]\n",
    "    for word in words:\n",
    "        if word in word2index:\n",
    "            seqs.append(word2index[word])\n",
    "        else:\n",
    "            seqs.append(word2index['UNK'])\n",
    "    x[i]=seqs\n",
    "    y[i]=int(label)\n",
    "    i+=1\n",
    "ftrain.close()\n",
    "print(x)"
   ]
  },
  {
   "cell_type": "code",
   "execution_count": 66,
   "metadata": {},
   "outputs": [
    {
     "name": "stdout",
     "output_type": "stream",
     "text": [
      "[  0   0   0   0   0   0   0   0   0   0   0   0   0   0   0   0   0   0\n",
      "   0   0   0   0   0   0   0   0   0   0   0   0   0   5  10   9  12 101\n",
      "  17  48  22   4]\n"
     ]
    }
   ],
   "source": [
    "from keras_preprocessing import sequence\n",
    "X=sequence.pad_sequences(x,maxlen=MAX_SENTENCE_LENGTH)\n",
    "print(X[0])"
   ]
  },
  {
   "cell_type": "code",
   "execution_count": 64,
   "metadata": {},
   "outputs": [],
   "source": [
    "from sklearn.model_selection import train_test_split\n",
    "Xtrain,Xtest,ytrain,ytest=train_test_split(X,y,test_size=0.2,random_state=42)"
   ]
  },
  {
   "cell_type": "code",
   "execution_count": null,
   "metadata": {},
   "outputs": [],
   "source": []
  }
 ],
 "metadata": {
  "kernelspec": {
   "display_name": "Python 3",
   "language": "python",
   "name": "python3"
  },
  "language_info": {
   "codemirror_mode": {
    "name": "ipython",
    "version": 3
   },
   "file_extension": ".py",
   "mimetype": "text/x-python",
   "name": "python",
   "nbconvert_exporter": "python",
   "pygments_lexer": "ipython3",
   "version": "3.7.4"
  }
 },
 "nbformat": 4,
 "nbformat_minor": 2
}
