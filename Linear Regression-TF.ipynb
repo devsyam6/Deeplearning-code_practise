{
 "cells": [
  {
   "cell_type": "code",
   "execution_count": 44,
   "metadata": {},
   "outputs": [],
   "source": [
    "import tensorflow.compat.v1 as tf\n",
    "tf.disable_v2_behavior()\n"
   ]
  },
  {
   "cell_type": "code",
   "execution_count": 45,
   "metadata": {},
   "outputs": [],
   "source": [
    "from sklearn.datasets import load_boston\n",
    "\n",
    "boston = load_boston()\n",
    "#print(boston)"
   ]
  },
  {
   "cell_type": "code",
   "execution_count": 46,
   "metadata": {},
   "outputs": [
    {
     "name": "stdout",
     "output_type": "stream",
     "text": [
      "(506, 13)\n",
      "506\n",
      "['CRIM' 'ZN' 'INDUS' 'CHAS' 'NOX' 'RM' 'AGE' 'DIS' 'RAD' 'TAX' 'PTRATIO'\n",
      " 'B' 'LSTAT']\n"
     ]
    }
   ],
   "source": [
    "print(boston.data.shape)\n",
    "print(len(boston.target))\n",
    "print(boston.feature_names)"
   ]
  },
  {
   "cell_type": "code",
   "execution_count": 47,
   "metadata": {},
   "outputs": [],
   "source": [
    "import numpy as np\n",
    "X= np.array(boston.data)\n",
    "y= np.array(boston.target)\n"
   ]
  },
  {
   "cell_type": "code",
   "execution_count": 48,
   "metadata": {},
   "outputs": [],
   "source": [
    "num_training_sample = X.shape[0]\n",
    "num_features = X.shape[1]\n",
    "\n"
   ]
  },
  {
   "cell_type": "code",
   "execution_count": 49,
   "metadata": {},
   "outputs": [],
   "source": [
    "def normalize(dataset):\n",
    "    mean = np.mean(dataset,axis=0)\n",
    "    std = np.std(dataset,axis=0)\n",
    "    return (dataset-mean )/std "
   ]
  },
  {
   "cell_type": "code",
   "execution_count": 50,
   "metadata": {},
   "outputs": [
    {
     "name": "stdout",
     "output_type": "stream",
     "text": [
      "[[6.3200e-03 1.8000e+01 2.3100e+00 ... 1.5300e+01 3.9690e+02 4.9800e+00]\n",
      " [2.7310e-02 0.0000e+00 7.0700e+00 ... 1.7800e+01 3.9690e+02 9.1400e+00]\n",
      " [2.7290e-02 0.0000e+00 7.0700e+00 ... 1.7800e+01 3.9283e+02 4.0300e+00]\n",
      " ...\n",
      " [6.0760e-02 0.0000e+00 1.1930e+01 ... 2.1000e+01 3.9690e+02 5.6400e+00]\n",
      " [1.0959e-01 0.0000e+00 1.1930e+01 ... 2.1000e+01 3.9345e+02 6.4800e+00]\n",
      " [4.7410e-02 0.0000e+00 1.1930e+01 ... 2.1000e+01 3.9690e+02 7.8800e+00]]\n"
     ]
    }
   ],
   "source": [
    "X_normalized = normalize(X)\n",
    "print(X)\n"
   ]
  },
  {
   "cell_type": "code",
   "execution_count": 51,
   "metadata": {},
   "outputs": [
    {
     "name": "stdout",
     "output_type": "stream",
     "text": [
      "[[-0.41978194  0.28482986 -1.2879095  ... -1.45900038  0.44105193\n",
      "  -1.0755623 ]\n",
      " [-0.41733926 -0.48772236 -0.59338101 ... -0.30309415  0.44105193\n",
      "  -0.49243937]\n",
      " [-0.41734159 -0.48772236 -0.59338101 ... -0.30309415  0.39642699\n",
      "  -1.2087274 ]\n",
      " ...\n",
      " [-0.41344658 -0.48772236  0.11573841 ...  1.17646583  0.44105193\n",
      "  -0.98304761]\n",
      " [-0.40776407 -0.48772236  0.11573841 ...  1.17646583  0.4032249\n",
      "  -0.86530163]\n",
      " [-0.41500016 -0.48772236  0.11573841 ...  1.17646583  0.44105193\n",
      "  -0.66905833]]\n"
     ]
    }
   ],
   "source": [
    "print(X_normalized)"
   ]
  },
  {
   "cell_type": "code",
   "execution_count": 52,
   "metadata": {},
   "outputs": [
    {
     "name": "stdout",
     "output_type": "stream",
     "text": [
      "(339, 13)\n",
      "(167, 13)\n"
     ]
    }
   ],
   "source": [
    "from sklearn.model_selection import train_test_split\n",
    "X_train,X_test,y_train,y_test = train_test_split(X_normalized,y,random_state=42,test_size =0.33)\n",
    "\n",
    "print(X_train.shape)\n",
    "print(X_test.shape)"
   ]
  },
  {
   "cell_type": "code",
   "execution_count": 53,
   "metadata": {},
   "outputs": [
    {
     "name": "stdout",
     "output_type": "stream",
     "text": [
      "(13, 339)\n"
     ]
    }
   ],
   "source": [
    "X_train = np.transpose(X_train)\n",
    "print(X_train.shape)"
   ]
  },
  {
   "cell_type": "code",
   "execution_count": 54,
   "metadata": {},
   "outputs": [
    {
     "name": "stdout",
     "output_type": "stream",
     "text": [
      "(13, 167)\n"
     ]
    }
   ],
   "source": [
    "X_test = np.transpose(X_test)\n",
    "print(X_test.shape)"
   ]
  },
  {
   "cell_type": "code",
   "execution_count": 55,
   "metadata": {},
   "outputs": [
    {
     "name": "stdout",
     "output_type": "stream",
     "text": [
      "(339,)\n",
      "(167,)\n"
     ]
    }
   ],
   "source": [
    "print(y_train.shape)\n",
    "print(y_test.shape)"
   ]
  },
  {
   "cell_type": "code",
   "execution_count": 56,
   "metadata": {},
   "outputs": [
    {
     "name": "stdout",
     "output_type": "stream",
     "text": [
      "(1, 339)\n",
      "(1, 167)\n"
     ]
    }
   ],
   "source": [
    "y_train = np.reshape(y_train,(1,len(y_train)))\n",
    "y_test = np.reshape(y_test,(1,len(y_test)))\n",
    "print(y_train.shape)\n",
    "print(y_test.shape)"
   ]
  },
  {
   "cell_type": "code",
   "execution_count": 57,
   "metadata": {},
   "outputs": [],
   "source": [
    "tf.reset_default_graph()\n",
    "X_tf = tf.placeholder(tf.float32,[num_features,None])\n",
    "y_tf = tf.placeholder(tf.float32,[1,None])\n",
    "\n",
    "learning_rate = tf.placeholder(tf.float32,shape=())\n",
    "W = tf.Variable(tf.ones([num_features,1]))\n",
    "b = tf.Variable(tf.zeros(1))\n",
    "\n",
    "init = tf.global_variables_initializer()\n",
    "W_t = tf.transpose(W)\n",
    "W_t_X = tf.matmul(W_t,X_tf)\n",
    "y_pred = W_t_X + b\n",
    "cost = tf.reduce_mean(tf.square(y_tf - y_pred))\n",
    "\n",
    "training_step = tf.train.GradientDescentOptimizer(learning_rate=learning_rate).minimize(cost)"
   ]
  },
  {
   "cell_type": "code",
   "execution_count": 58,
   "metadata": {},
   "outputs": [],
   "source": [
    "def linear_model(learning_r,training_epochs,train_data,train_labels,debug=False):\n",
    "    sess = tf.Session()\n",
    "    sess.run(init)\n",
    "    cost_history = np.empty(shape=[0],dtype='float')\n",
    "    feed_dict = {X_tf:train_data,y_tf:train_labels,learning_rate:learning_r}\n",
    "    for epoch in range(training_epochs+1):\n",
    "        cost_val = sess.run(cost,feed_dict)\n",
    "        cost_history = np.append(cost_history,cost_val)\n",
    "        sess.run(training_step,feed_dict)\n",
    "        if epoch % 10 == 0 & debug:\n",
    "            print('Reached epoch ',epoch,' cost =',str.format('{0:.6f}',cost_val))\n",
    "            \n",
    "    return sess,cost_history\n",
    "  "
   ]
  },
  {
   "cell_type": "code",
   "execution_count": 59,
   "metadata": {},
   "outputs": [
    {
     "name": "stdout",
     "output_type": "stream",
     "text": [
      "Reached epoch  0  cost = 668.342651\n",
      "Reached epoch  10  cost = 392.752319\n",
      "Reached epoch  20  cost = 262.624847\n",
      "Reached epoch  30  cost = 181.894653\n",
      "Reached epoch  40  cost = 129.436020\n",
      "Reached epoch  50  cost = 94.946548\n",
      "Reached epoch  60  cost = 72.109024\n",
      "Reached epoch  70  cost = 56.890278\n",
      "Reached epoch  80  cost = 46.684696\n",
      "Reached epoch  90  cost = 39.796509\n",
      "Reached epoch  100  cost = 35.114952\n",
      "Reached epoch  110  cost = 31.908476\n",
      "Reached epoch  120  cost = 29.692829\n",
      "Reached epoch  130  cost = 28.146111\n",
      "Reached epoch  140  cost = 27.053362\n",
      "Reached epoch  150  cost = 26.270508\n",
      "Reached epoch  160  cost = 25.700592\n",
      "Reached epoch  170  cost = 25.278101\n",
      "Reached epoch  180  cost = 24.958595\n",
      "Reached epoch  190  cost = 24.711782\n",
      "Reached epoch  200  cost = 24.516901\n",
      "Reached epoch  210  cost = 24.359657\n",
      "Reached epoch  220  cost = 24.230106\n",
      "Reached epoch  230  cost = 24.121311\n",
      "Reached epoch  240  cost = 24.028358\n",
      "Reached epoch  250  cost = 23.947750\n",
      "Reached epoch  260  cost = 23.876949\n",
      "Reached epoch  270  cost = 23.814096\n",
      "Reached epoch  280  cost = 23.757797\n",
      "Reached epoch  290  cost = 23.707005\n",
      "Reached epoch  300  cost = 23.660910\n",
      "Reached epoch  310  cost = 23.618868\n",
      "Reached epoch  320  cost = 23.580370\n",
      "Reached epoch  330  cost = 23.544994\n",
      "Reached epoch  340  cost = 23.512400\n",
      "Reached epoch  350  cost = 23.482288\n",
      "Reached epoch  360  cost = 23.454422\n",
      "Reached epoch  370  cost = 23.428574\n",
      "Reached epoch  380  cost = 23.404568\n",
      "Reached epoch  390  cost = 23.382233\n",
      "Reached epoch  400  cost = 23.361433\n",
      "Reached epoch  410  cost = 23.342030\n",
      "Reached epoch  420  cost = 23.323910\n",
      "Reached epoch  430  cost = 23.306973\n",
      "Reached epoch  440  cost = 23.291121\n",
      "Reached epoch  450  cost = 23.276276\n",
      "Reached epoch  460  cost = 23.262352\n",
      "Reached epoch  470  cost = 23.249290\n",
      "Reached epoch  480  cost = 23.237019\n",
      "Reached epoch  490  cost = 23.225479\n",
      "Reached epoch  500  cost = 23.214622\n",
      "Reached epoch  510  cost = 23.204399\n",
      "Reached epoch  520  cost = 23.194761\n",
      "Reached epoch  530  cost = 23.185671\n",
      "Reached epoch  540  cost = 23.177095\n",
      "Reached epoch  550  cost = 23.168989\n",
      "Reached epoch  560  cost = 23.161327\n",
      "Reached epoch  570  cost = 23.154076\n",
      "Reached epoch  580  cost = 23.147217\n",
      "Reached epoch  590  cost = 23.140713\n",
      "Reached epoch  600  cost = 23.134550\n",
      "Reached epoch  610  cost = 23.128702\n",
      "Reached epoch  620  cost = 23.123152\n",
      "Reached epoch  630  cost = 23.117874\n",
      "Reached epoch  640  cost = 23.112862\n",
      "Reached epoch  650  cost = 23.108091\n",
      "Reached epoch  660  cost = 23.103550\n",
      "Reached epoch  670  cost = 23.099228\n",
      "Reached epoch  680  cost = 23.095106\n",
      "Reached epoch  690  cost = 23.091173\n",
      "Reached epoch  700  cost = 23.087425\n",
      "Reached epoch  710  cost = 23.083843\n",
      "Reached epoch  720  cost = 23.080421\n",
      "Reached epoch  730  cost = 23.077152\n",
      "Reached epoch  740  cost = 23.074026\n",
      "Reached epoch  750  cost = 23.071033\n",
      "Reached epoch  760  cost = 23.068167\n",
      "Reached epoch  770  cost = 23.065420\n",
      "Reached epoch  780  cost = 23.062790\n",
      "Reached epoch  790  cost = 23.060265\n",
      "Reached epoch  800  cost = 23.057846\n",
      "Reached epoch  810  cost = 23.055523\n",
      "Reached epoch  820  cost = 23.053288\n",
      "Reached epoch  830  cost = 23.051147\n",
      "Reached epoch  840  cost = 23.049082\n",
      "Reached epoch  850  cost = 23.047104\n",
      "Reached epoch  860  cost = 23.045193\n",
      "Reached epoch  870  cost = 23.043356\n",
      "Reached epoch  880  cost = 23.041590\n",
      "Reached epoch  890  cost = 23.039888\n",
      "Reached epoch  900  cost = 23.038242\n",
      "Reached epoch  910  cost = 23.036659\n",
      "Reached epoch  920  cost = 23.035135\n",
      "Reached epoch  930  cost = 23.033663\n",
      "Reached epoch  940  cost = 23.032240\n",
      "Reached epoch  950  cost = 23.030869\n",
      "Reached epoch  960  cost = 23.029541\n",
      "Reached epoch  970  cost = 23.028261\n",
      "Reached epoch  980  cost = 23.027023\n",
      "Reached epoch  990  cost = 23.025826\n",
      "Reached epoch  1000  cost = 23.024670\n",
      "Reached epoch  1010  cost = 23.023550\n",
      "Reached epoch  1020  cost = 23.022467\n",
      "Reached epoch  1030  cost = 23.021418\n",
      "Reached epoch  1040  cost = 23.020401\n",
      "Reached epoch  1050  cost = 23.019419\n",
      "Reached epoch  1060  cost = 23.018469\n",
      "Reached epoch  1070  cost = 23.017546\n",
      "Reached epoch  1080  cost = 23.016651\n",
      "Reached epoch  1090  cost = 23.015785\n",
      "Reached epoch  1100  cost = 23.014944\n",
      "Reached epoch  1110  cost = 23.014130\n",
      "Reached epoch  1120  cost = 23.013342\n",
      "Reached epoch  1130  cost = 23.012575\n",
      "Reached epoch  1140  cost = 23.011833\n",
      "Reached epoch  1150  cost = 23.011108\n",
      "Reached epoch  1160  cost = 23.010408\n",
      "Reached epoch  1170  cost = 23.009731\n",
      "Reached epoch  1180  cost = 23.009071\n",
      "Reached epoch  1190  cost = 23.008430\n",
      "Reached epoch  1200  cost = 23.007805\n",
      "Reached epoch  1210  cost = 23.007200\n",
      "Reached epoch  1220  cost = 23.006615\n",
      "Reached epoch  1230  cost = 23.006044\n",
      "Reached epoch  1240  cost = 23.005491\n",
      "Reached epoch  1250  cost = 23.004950\n",
      "Reached epoch  1260  cost = 23.004427\n",
      "Reached epoch  1270  cost = 23.003920\n",
      "Reached epoch  1280  cost = 23.003422\n",
      "Reached epoch  1290  cost = 23.002939\n",
      "Reached epoch  1300  cost = 23.002474\n",
      "Reached epoch  1310  cost = 23.002020\n",
      "Reached epoch  1320  cost = 23.001574\n",
      "Reached epoch  1330  cost = 23.001144\n",
      "Reached epoch  1340  cost = 23.000727\n",
      "Reached epoch  1350  cost = 23.000319\n",
      "Reached epoch  1360  cost = 22.999920\n",
      "Reached epoch  1370  cost = 22.999535\n",
      "Reached epoch  1380  cost = 22.999159\n",
      "Reached epoch  1390  cost = 22.998796\n",
      "Reached epoch  1400  cost = 22.998440\n",
      "Reached epoch  1410  cost = 22.998095\n",
      "Reached epoch  1420  cost = 22.997757\n",
      "Reached epoch  1430  cost = 22.997427\n",
      "Reached epoch  1440  cost = 22.997110\n",
      "Reached epoch  1450  cost = 22.996799\n",
      "Reached epoch  1460  cost = 22.996500\n",
      "Reached epoch  1470  cost = 22.996204\n",
      "Reached epoch  1480  cost = 22.995914\n",
      "Reached epoch  1490  cost = 22.995638\n",
      "Reached epoch  1500  cost = 22.995365\n",
      "Reached epoch  1510  cost = 22.995100\n",
      "Reached epoch  1520  cost = 22.994844\n",
      "Reached epoch  1530  cost = 22.994591\n",
      "Reached epoch  1540  cost = 22.994347\n",
      "Reached epoch  1550  cost = 22.994108\n",
      "Reached epoch  1560  cost = 22.993876\n",
      "Reached epoch  1570  cost = 22.993650\n",
      "Reached epoch  1580  cost = 22.993431\n",
      "Reached epoch  1590  cost = 22.993219\n",
      "Reached epoch  1600  cost = 22.993010\n",
      "Reached epoch  1610  cost = 22.992805\n",
      "Reached epoch  1620  cost = 22.992609\n",
      "Reached epoch  1630  cost = 22.992414\n",
      "Reached epoch  1640  cost = 22.992226\n",
      "Reached epoch  1650  cost = 22.992043\n",
      "Reached epoch  1660  cost = 22.991865\n",
      "Reached epoch  1670  cost = 22.991690\n",
      "Reached epoch  1680  cost = 22.991522\n",
      "Reached epoch  1690  cost = 22.991358\n",
      "Reached epoch  1700  cost = 22.991194\n",
      "Reached epoch  1710  cost = 22.991037\n",
      "Reached epoch  1720  cost = 22.990885\n",
      "Reached epoch  1730  cost = 22.990738\n",
      "Reached epoch  1740  cost = 22.990595\n",
      "Reached epoch  1750  cost = 22.990452\n",
      "Reached epoch  1760  cost = 22.990314\n",
      "Reached epoch  1770  cost = 22.990179\n",
      "Reached epoch  1780  cost = 22.990049\n",
      "Reached epoch  1790  cost = 22.989922\n",
      "Reached epoch  1800  cost = 22.989798\n",
      "Reached epoch  1810  cost = 22.989677\n",
      "Reached epoch  1820  cost = 22.989559\n",
      "Reached epoch  1830  cost = 22.989445\n",
      "Reached epoch  1840  cost = 22.989332\n",
      "Reached epoch  1850  cost = 22.989222\n",
      "Reached epoch  1860  cost = 22.989117\n",
      "Reached epoch  1870  cost = 22.989012\n",
      "Reached epoch  1880  cost = 22.988913\n",
      "Reached epoch  1890  cost = 22.988815\n",
      "Reached epoch  1900  cost = 22.988720\n",
      "Reached epoch  1910  cost = 22.988623\n",
      "Reached epoch  1920  cost = 22.988533\n"
     ]
    }
   ],
   "source": [
    "sess,cost = linear_model(learning_r=0.01,training_epochs=1920,train_data=X_train,train_labels=y_train,debug=True)"
   ]
  },
  {
   "cell_type": "code",
   "execution_count": 60,
   "metadata": {},
   "outputs": [
    {
     "data": {
      "text/plain": [
       "array([20.811172], dtype=float32)"
      ]
     },
     "execution_count": 60,
     "metadata": {},
     "output_type": "execute_result"
    }
   ],
   "source": [
    "#Another construction node and session run for calculating accuracy.\n",
    "\n",
    "accuracy = tf.keras.losses.MSE(y_test,y_pred)\n",
    "\n",
    "sess.run(accuracy,feed_dict={X_tf:X_test})\n",
    " \n"
   ]
  },
  {
   "cell_type": "code",
   "execution_count": 61,
   "metadata": {},
   "outputs": [],
   "source": [
    "sess.close()"
   ]
  }
 ],
 "metadata": {
  "kernelspec": {
   "display_name": "Python 3",
   "language": "python",
   "name": "python3"
  },
  "language_info": {
   "codemirror_mode": {
    "name": "ipython",
    "version": 3
   },
   "file_extension": ".py",
   "mimetype": "text/x-python",
   "name": "python",
   "nbconvert_exporter": "python",
   "pygments_lexer": "ipython3",
   "version": "3.7.9"
  }
 },
 "nbformat": 4,
 "nbformat_minor": 4
}
