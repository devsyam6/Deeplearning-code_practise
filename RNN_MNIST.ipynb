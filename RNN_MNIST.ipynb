{
 "cells": [
  {
   "cell_type": "code",
   "execution_count": 1,
   "metadata": {},
   "outputs": [
    {
     "data": {
      "text/plain": [
       "(60000, 28, 28)"
      ]
     },
     "execution_count": 1,
     "metadata": {},
     "output_type": "execute_result"
    }
   ],
   "source": [
    "from keras.datasets import mnist\n",
    "import numpy as np\n",
    "\n",
    "(X_train,y_train),(X_test,y_test) = mnist.load_data()\n",
    "\n",
    "\n",
    "num_labels = len(np.unique(y_train))\n",
    "X_train.shape"
   ]
  },
  {
   "cell_type": "code",
   "execution_count": 2,
   "metadata": {},
   "outputs": [
    {
     "data": {
      "text/plain": [
       "28"
      ]
     },
     "execution_count": 2,
     "metadata": {},
     "output_type": "execute_result"
    }
   ],
   "source": [
    "from keras.utils import to_categorical\n",
    "\n",
    "y_train = to_categorical(y_train)\n",
    "y_test = to_categorical(y_test)\n",
    " \n",
    "image_size = X_train.shape[1]\n",
    "image_size"
   ]
  },
  {
   "cell_type": "code",
   "execution_count": 3,
   "metadata": {},
   "outputs": [],
   "source": [
    "#samples,timestep,features\n",
    "X_train = np.reshape(X_train,[-1,image_size,image_size])\n",
    "X_test = np.reshape(X_test,[-1,image_size,image_size])\n",
    "\n",
    "X_train = X_train.astype('float32')/255\n",
    "X_test = X_test.astype('float32')/255"
   ]
  },
  {
   "cell_type": "code",
   "execution_count": 4,
   "metadata": {},
   "outputs": [],
   "source": [
    "input_size =(image_size,image_size)\n",
    "num_units = 256\n",
    "batch_size = 128\n",
    "drop_out =0.2\n"
   ]
  },
  {
   "cell_type": "code",
   "execution_count": 5,
   "metadata": {},
   "outputs": [
    {
     "name": "stdout",
     "output_type": "stream",
     "text": [
      "Model: \"sequential\"\n",
      "_________________________________________________________________\n",
      "Layer (type)                 Output Shape              Param #   \n",
      "=================================================================\n",
      "simple_rnn (SimpleRNN)       (None, 256)               72960     \n",
      "_________________________________________________________________\n",
      "dense (Dense)                (None, 10)                2570      \n",
      "_________________________________________________________________\n",
      "activation (Activation)      (None, 10)                0         \n",
      "=================================================================\n",
      "Total params: 75,530\n",
      "Trainable params: 75,530\n",
      "Non-trainable params: 0\n",
      "_________________________________________________________________\n"
     ]
    }
   ],
   "source": [
    "from  keras.models import Sequential\n",
    "\n",
    "from keras.layers import Activation,Dropout,Dense,SimpleRNN\n",
    "\n",
    "model = Sequential()\n",
    "model.add(SimpleRNN(units=num_units,dropout=drop_out,input_shape=input_size))\n",
    "model.add(Dense(num_labels))\n",
    "model.add(Activation('softmax'))\n",
    "\n",
    "model.summary()\n",
    " "
   ]
  },
  {
   "cell_type": "code",
   "execution_count": 6,
   "metadata": {},
   "outputs": [
    {
     "data": {
      "image/png": "[encoded data removed]",
      "text/plain": [
       "<IPython.core.display.Image object>"
      ]
     },
     "execution_count": 6,
     "metadata": {},
     "output_type": "execute_result"
    }
   ],
   "source": [
    "from keras.utils import plot_model\n",
    "plot_model(model, to_file='RNN-mnist.png', show_shapes=True)"
   ]
  },
  {
   "cell_type": "code",
   "execution_count": 7,
   "metadata": {},
   "outputs": [],
   "source": [
    "model.compile(loss='categorical_crossentropy' ,optimizer='sgd',metrics=['accuracy'])\n"
   ]
  },
  {
   "cell_type": "code",
   "execution_count": 8,
   "metadata": {},
   "outputs": [
    {
     "name": "stdout",
     "output_type": "stream",
     "text": [
      "Epoch 1/20\n",
      "469/469 [==============================] - 11s 20ms/step - loss: 1.1855 - accuracy: 0.6374\n",
      "Epoch 2/20\n",
      "469/469 [==============================] - 11s 22ms/step - loss: 0.3529 - accuracy: 0.8986\n",
      "Epoch 3/20\n",
      "469/469 [==============================] - 11s 23ms/step - loss: 0.2504 - accuracy: 0.9264\n",
      "Epoch 4/20\n",
      "469/469 [==============================] - 16s 33ms/step - loss: 0.2066 - accuracy: 0.9376\n",
      "Epoch 5/20\n",
      "469/469 [==============================] - 19s 40ms/step - loss: 0.1758 - accuracy: 0.9484\n",
      "Epoch 6/20\n",
      "469/469 [==============================] - 15s 32ms/step - loss: 0.1513 - accuracy: 0.9548\n",
      "Epoch 7/20\n",
      "469/469 [==============================] - 10s 22ms/step - loss: 0.1395 - accuracy: 0.9587\n",
      "Epoch 8/20\n",
      "469/469 [==============================] - 11s 24ms/step - loss: 0.1276 - accuracy: 0.9622\n",
      "Epoch 9/20\n",
      "469/469 [==============================] - 11s 24ms/step - loss: 0.1176 - accuracy: 0.9640\n",
      "Epoch 10/20\n",
      "469/469 [==============================] - 11s 24ms/step - loss: 0.1106 - accuracy: 0.9669\n",
      "Epoch 11/20\n",
      "469/469 [==============================] - 11s 24ms/step - loss: 0.1034 - accuracy: 0.9690\n",
      "Epoch 12/20\n",
      "469/469 [==============================] - 11s 24ms/step - loss: 0.0968 - accuracy: 0.97100s - loss: 0.096\n",
      "Epoch 13/20\n",
      "469/469 [==============================] - 11s 24ms/step - loss: 0.0959 - accuracy: 0.9705\n",
      "Epoch 14/20\n",
      "469/469 [==============================] - 11s 24ms/step - loss: 0.0855 - accuracy: 0.9744\n",
      "Epoch 15/20\n",
      "469/469 [==============================] - 11s 24ms/step - loss: 0.0850 - accuracy: 0.9735\n",
      "Epoch 16/20\n",
      "469/469 [==============================] - 11s 24ms/step - loss: 0.0790 - accuracy: 0.9757\n",
      "Epoch 17/20\n",
      "469/469 [==============================] - 12s 25ms/step - loss: 0.0785 - accuracy: 0.9761\n",
      "Epoch 18/20\n",
      "469/469 [==============================] - 11s 24ms/step - loss: 0.0741 - accuracy: 0.9767\n",
      "Epoch 19/20\n",
      "469/469 [==============================] - 11s 24ms/step - loss: 0.0710 - accuracy: 0.9780\n",
      "Epoch 20/20\n",
      "469/469 [==============================] - 11s 24ms/step - loss: 0.0689 - accuracy: 0.9788\n"
     ]
    },
    {
     "data": {
      "text/plain": [
       "<tensorflow.python.keras.callbacks.History at 0x25ffccbbfc8>"
      ]
     },
     "execution_count": 8,
     "metadata": {},
     "output_type": "execute_result"
    }
   ],
   "source": [
    "model.fit(X_train,y_train,epochs=20,batch_size=batch_size)\n"
   ]
  },
  {
   "cell_type": "code",
   "execution_count": 9,
   "metadata": {},
   "outputs": [
    {
     "data": {
      "text/plain": [
       "(60000, 28, 28)"
      ]
     },
     "execution_count": 9,
     "metadata": {},
     "output_type": "execute_result"
    }
   ],
   "source": [
    "X_train.shape"
   ]
  },
  {
   "cell_type": "code",
   "execution_count": 10,
   "metadata": {},
   "outputs": [
    {
     "name": "stdout",
     "output_type": "stream",
     "text": [
      "79/79 [==============================] - 1s 8ms/step - loss: 0.0601 - accuracy: 0.9803\n",
      "Loss :  0.0600685179233551\n",
      "Accuracy Score :  0.9803000092506409\n"
     ]
    }
   ],
   "source": [
    "loss,score = model.evaluate(X_test,y_test,batch_size=batch_size)\n",
    "\n",
    "print('Loss : ',loss)\n",
    "print('Accuracy Score : ',score)"
   ]
  }
 ],
 "metadata": {
  "kernelspec": {
   "display_name": "Python 3",
   "language": "python",
   "name": "python3"
  },
  "language_info": {
   "codemirror_mode": {
    "name": "ipython",
    "version": 3
   },
   "file_extension": ".py",
   "mimetype": "text/x-python",
   "name": "python",
   "nbconvert_exporter": "python",
   "pygments_lexer": "ipython3",
   "version": "3.7.9"
  }
 },
 "nbformat": 4,
 "nbformat_minor": 4
}
