{
 "cells": [
  {
   "cell_type": "code",
   "execution_count": null,
   "id": "crucial-offense",
   "metadata": {},
   "outputs": [],
   "source": [
    "import pandas as pd\n",
    "import numpy as np\n",
    "data_train=pd.read_csv('E:/expertzlab/fashion_mnist_train.csv',header=0)\n",
    "print(data_train.head())\n",
    "print(data_train.shape)\n",
    "#print(data_train.iloc[0])\n",
    "print(data_train.iloc[0].values)\n"
   ]
  },
  {
   "cell_type": "code",
   "execution_count": null,
   "id": "hired-swing",
   "metadata": {},
   "outputs": [],
   "source": [
    "import matplotlib.pyplot as plt\n",
    "data=data_train.drop('label',axis=1)\n",
    "#print(data)\n",
    "A=data.iloc[0].values.reshape(28,28)\n",
    "print(A.shape)\n",
    "plt.imshow(A)\n",
    "print(data_train['label'][0])\n",
    "print(data.shape)\n",
    "train=data_train.drop('label',axis=1).transpose()\n",
    "print(train.shape)\n",
    "train=np.array(train/255.0)\n",
    "labels_=data_train['label'].values.reshape(1,60000)\n",
    "print(labels_.shape)\n",
    "labels_dev_=np.zeros((60000,10))\n",
    "#print(labels_div_)\n",
    "print(labels_dev_[0])\n",
    "labels_dev_[np.arange(60000),labels_]=1\n",
    "print(labels_dev_[0])\n",
    "labels_=labels_dev_.transpose()\n",
    "print(labels_.shape)\n"
   ]
  },
  {
   "cell_type": "code",
   "execution_count": null,
   "id": "after-listing",
   "metadata": {},
   "outputs": [],
   "source": [
    "\n",
    "import tensorflow.compat.v1 as tf\n",
    "tf.disable_v2_behavior()\n",
    "\n",
    "n_dim=784\n",
    "tf.reset_default_graph()\n",
    "n1=5\n",
    "n2=10\n",
    "cost_history=np.empty(shape=[1],dtype=float)\n",
    "#print(cost_history)\n",
    "X=tf.placeholder(tf.float32,[n_dim,None])\n",
    "Y=tf.placeholder(tf.float32,[10,None])\n",
    "learning_rate=tf.placeholder(tf.float32,shape=())\n",
    "W1=tf.Variable(tf.truncated_normal([n1,n_dim],stddev=.1))\n",
    "b1=tf.Variable(tf.zeros([n1,1]))\n",
    "W2=tf.Variable(tf.truncated_normal([n2,n1],stddev=.1))\n",
    "b2=tf.Variable(tf.zeros([n2,1]))\n",
    "\n",
    "Z1=tf.nn.relu(tf.matmul(W1,X)+b1)\n",
    "Z2=tf.nn.relu(tf.matmul(W2,Z1)+b2)\n",
    "y_=tf.nn.softmax(Z2,0)\n",
    "cost=-tf.reduce_mean(Y*tf.log(y_)+(1-Y)*tf.log(1-y_))\n",
    "optimizer=tf.train.AdamOptimizer(learning_rate).minimize(cost)\n",
    "\n",
    "init=tf.global_variables_initializer()\n",
    "\n",
    "sess=tf.Session()\n",
    "sess.run(init)\n",
    "training_epochs=500\n",
    "cost_history=[]\n",
    "for epoch in range(training_epochs+1):\n",
    "        sess.run(optimizer,feed_dict={X:train,Y:labels_,learning_rate:0.001})\n",
    "        cost_=sess.run(cost,feed_dict={X:train,Y:labels_})\n",
    "        cost_history=np.append(cost_history,cost_)\n",
    "        if(epoch%20==0):\n",
    "            print(\"Reached epoch\",epoch,\"cost =\",str.format('{0:.6f}',cost_))\n",
    "\n",
    "data_test=pd.read_csv('E:/expertzlab/fashion_mnist.csv',header=0)\n",
    "labels_t=data_test['label'].values.reshape(1,10000)\n",
    "labels_t=np.zeros((10000,10))\n",
    "labels_t_[np.arange(10000),labels_t]=1\n",
    "labels_t=labels_t_.transpose()\n",
    "train_t=data_test.drop('label',axis=1).transpose()\n",
    "correct_predictions=tf.equal(tf.argmax(y_,0),tf.argmax(Y,0))\n",
    "accuracy = tf.reduce_mean(tf.cast(correct_predictions, \"float\"))\n",
    "print(\"accuracy: \",accuracy.eval({X:train,Y:labels_,learning_rate:0.001},session=sess))\n",
    "\n"
   ]
  }
 ],
 "metadata": {
  "kernelspec": {
   "display_name": "Python 3",
   "language": "python",
   "name": "python3"
  },
  "language_info": {
   "codemirror_mode": {
    "name": "ipython",
    "version": 3
   },
   "file_extension": ".py",
   "mimetype": "text/x-python",
   "name": "python",
   "nbconvert_exporter": "python",
   "pygments_lexer": "ipython3",
   "version": "3.8.5"
  }
 },
 "nbformat": 4,
 "nbformat_minor": 5
}
