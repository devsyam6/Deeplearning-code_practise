{
 "cells": [
  {
   "cell_type": "code",
   "execution_count": 2,
   "metadata": {},
   "outputs": [
    {
     "name": "stdout",
     "output_type": "stream",
     "text": [
      "TensorFlow version: 2.4.0\n"
     ]
    }
   ],
   "source": [
    "import tensorflow as tf\n",
    "print (\"TensorFlow version: \" + tf.__version__)"
   ]
  },
  {
   "cell_type": "code",
   "execution_count": 6,
   "metadata": {},
   "outputs": [
    {
     "name": "stdout",
     "output_type": "stream",
     "text": [
      "Tensor(\"Add:0\", shape=(), dtype=int32)\n"
     ]
    }
   ],
   "source": [
    "x1 = tf.constant(1)\n",
    "x2 = tf.constant(2)\n",
    "z = tf.add(x1,x2)\n",
    "\n",
    " \n",
    "#step in which tensor is created called construction state\n",
    "#another state is called evaluation state"
   ]
  },
  {
   "cell_type": "code",
   "execution_count": 12,
   "metadata": {},
   "outputs": [],
   "source": [
    "#Evaluation state\n",
    "#create section to evaluate\n",
    "# Session is not available in version after 2 so need to downgrad version to 1\n"
   ]
  },
  {
   "cell_type": "code",
   "execution_count": 5,
   "metadata": {},
   "outputs": [
    {
     "name": "stdout",
     "output_type": "stream",
     "text": [
      "WARNING:tensorflow:From C:\\Users\\Reny\\AppData\\Roaming\\Python\\Python37\\site-packages\\tensorflow\\python\\compat\\v2_compat.py:96: disable_resource_variables (from tensorflow.python.ops.variable_scope) is deprecated and will be removed in a future version.\n",
      "Instructions for updating:\n",
      "non-resource variables are not supported in the long term\n"
     ]
    }
   ],
   "source": [
    "import tensorflow.compat.v1 as tf\n",
    "tf.disable_v2_behavior()\n",
    "\n"
   ]
  },
  {
   "cell_type": "code",
   "execution_count": 8,
   "metadata": {},
   "outputs": [],
   "source": [
    "x1 = tf.constant(1)\n",
    "x2 = tf.constant(2)\n",
    "z = tf.add(x1,x2)"
   ]
  },
  {
   "cell_type": "code",
   "execution_count": 11,
   "metadata": {},
   "outputs": [
    {
     "name": "stdout",
     "output_type": "stream",
     "text": [
      "3\n"
     ]
    }
   ],
   "source": [
    "\n",
    "sess = tf.Session()\n",
    "print(sess.run(z))\n",
    "sess.close()"
   ]
  },
  {
   "cell_type": "code",
   "execution_count": 13,
   "metadata": {},
   "outputs": [],
   "source": [
    "x1 = tf.Variable(1)\n",
    "x2 = tf.Variable(2)\n",
    "z = tf.add(x1,x2)\n",
    "\n"
   ]
  },
  {
   "cell_type": "code",
   "execution_count": 14,
   "metadata": {},
   "outputs": [
    {
     "name": "stdout",
     "output_type": "stream",
     "text": [
      "3\n"
     ]
    }
   ],
   "source": [
    "#if type is variable then need to intialize variables before runing session\n",
    "\n",
    "sess = tf.Session()\n",
    "sess.run(x1.initializer)\n",
    "sess.run(x2.initializer)\n",
    "print(sess.run(z))\n",
    "sess.close()"
   ]
  },
  {
   "cell_type": "code",
   "execution_count": 16,
   "metadata": {},
   "outputs": [
    {
     "name": "stdout",
     "output_type": "stream",
     "text": [
      "3\n"
     ]
    }
   ],
   "source": [
    "#initialize using global initialization method (no need to intialize individual varibales)\n",
    "\n",
    "x1 = tf.Variable(1)\n",
    "x2 = tf.Variable(2)\n",
    "z = tf.add(x1,x2)\n",
    "\n",
    "sess = tf.Session()\n",
    "init = tf.global_variables_initializer()\n",
    "sess.run(init)\n",
    "print(sess.run(z))\n",
    "sess.close()"
   ]
  },
  {
   "cell_type": "code",
   "execution_count": 20,
   "metadata": {},
   "outputs": [
    {
     "name": "stdout",
     "output_type": "stream",
     "text": [
      "[3. 8.]\n"
     ]
    }
   ],
   "source": [
    "#Placeholder creation\n",
    "\n",
    "x1 = tf.placeholder(tf.float32,2)\n",
    "x2 = tf.placeholder(tf.float32,2)\n",
    "z = tf.add(x1,x2)\n",
    "\n",
    "sess = tf.Session()\n",
    "feed_dict ={x1:[1,3],x2:[2,5]}\n",
    "\n",
    "print(sess.run(z,feed_dict))\n",
    "sess.close()"
   ]
  },
  {
   "cell_type": "code",
   "execution_count": 21,
   "metadata": {},
   "outputs": [
    {
     "name": "stdout",
     "output_type": "stream",
     "text": [
      "[30.]\n"
     ]
    }
   ],
   "source": [
    "\n",
    "\n",
    "x1 = tf.placeholder(tf.float32,1)\n",
    "x2 = tf.placeholder(tf.float32,1)\n",
    "w1 = tf.placeholder(tf.float32,1)\n",
    "w2 = tf.placeholder(tf.float32,1)\n",
    "\n",
    "z1 = tf.multiply(x1,w1)\n",
    "z2 = tf.multiply(x2,w2)\n",
    "z3 = tf.add(z1,z2)\n",
    "\n",
    "feed_dict ={x1:[1],x2:[2],w1:[10],w2:[10]}\n",
    "\n",
    "sess = tf.Session()\n",
    "print(sess.run(z3,feed_dict))\n",
    "sess.close()"
   ]
  },
  {
   "cell_type": "code",
   "execution_count": 33,
   "metadata": {},
   "outputs": [
    {
     "name": "stdout",
     "output_type": "stream",
     "text": [
      "[10.]\n",
      "[20.]\n",
      "[30.]\n",
      "[array([10.], dtype=float32), array([20.], dtype=float32)]\n"
     ]
    }
   ],
   "source": [
    "\n",
    "x1 = tf.placeholder(tf.float32,1)\n",
    "x2 = tf.placeholder(tf.float32,1)\n",
    "w1 = tf.placeholder(tf.float32,1)\n",
    "w2 = tf.placeholder(tf.float32,1)\n",
    "\n",
    "z1 = tf.multiply(x1,w1)\n",
    "z2 = tf.multiply(x2,w2)\n",
    "z3 = tf.add(z1,z2)\n",
    "\n",
    "feed_dict ={x1:[1],x2:[2],w1:[10],w2:[10]}\n",
    "\n",
    "with tf.Session() as sess:\n",
    "    print(z1.eval(feed_dict,session=sess))\n",
    "    print(z2.eval(feed_dict,session=sess)) \n",
    "    print(z3.eval(feed_dict,session=sess))\n",
    "    # need to call each variable separately but in run can be done in single line with comma separated\n",
    "    print(sess.run([z1,z2],feed_dict))\n",
    "    "
   ]
  },
  {
   "cell_type": "code",
   "execution_count": 31,
   "metadata": {},
   "outputs": [
    {
     "name": "stdout",
     "output_type": "stream",
     "text": [
      "7\n",
      "8\n"
     ]
    }
   ],
   "source": [
    "c = tf.constant(5)\n",
    "x = c+1\n",
    "y = x+1\n",
    "z = x+2\n",
    "\n",
    "sess = tf.Session()\n",
    "print(sess.run(y))\n",
    "print(sess.run(z))\n",
    "sess.close()"
   ]
  },
  {
   "cell_type": "code",
   "execution_count": 32,
   "metadata": {},
   "outputs": [
    {
     "name": "stdout",
     "output_type": "stream",
     "text": [
      "[7, 8]\n"
     ]
    }
   ],
   "source": [
    "c = tf.constant(5)\n",
    "x = c+1\n",
    "y = x+1\n",
    "z = x+2\n",
    "\n",
    "sess = tf.Session()\n",
    "print(sess.run([y,z]))\n",
    "\n",
    "sess.close()"
   ]
  },
  {
   "cell_type": "code",
   "execution_count": 48,
   "metadata": {},
   "outputs": [
    {
     "data": {
      "text/plain": [
       "0"
      ]
     },
     "execution_count": 48,
     "metadata": {},
     "output_type": "execute_result"
    }
   ],
   "source": [
    "import numpy as np\n",
    "\n",
    "def sigmoid(z):\n",
    "    s = 1.0 / (1.0 + np.exp(-z) )\n",
    "    return s\n",
    "\n",
    "def tanh(z):\n",
    "    return np.tanh(z)\n",
    "\n",
    "def relu(z):\n",
    "    return np.maximum(z,0)\n",
    "\n",
    "relu(-1)\n",
    "    "
   ]
  },
  {
   "cell_type": "code",
   "execution_count": 49,
   "metadata": {},
   "outputs": [
    {
     "data": {
      "text/plain": [
       "0.9933071490757153"
      ]
     },
     "execution_count": 49,
     "metadata": {},
     "output_type": "execute_result"
    }
   ],
   "source": [
    "sigmoid(5)"
   ]
  },
  {
   "cell_type": "code",
   "execution_count": 50,
   "metadata": {},
   "outputs": [
    {
     "data": {
      "text/plain": [
       "0.9999092042625951"
      ]
     },
     "execution_count": 50,
     "metadata": {},
     "output_type": "execute_result"
    }
   ],
   "source": [
    "tanh(5)"
   ]
  },
  {
   "cell_type": "code",
   "execution_count": 51,
   "metadata": {},
   "outputs": [
    {
     "data": {
      "text/plain": [
       "0"
      ]
     },
     "execution_count": 51,
     "metadata": {},
     "output_type": "execute_result"
    }
   ],
   "source": [
    "relu(-1)"
   ]
  },
  {
   "cell_type": "code",
   "execution_count": 52,
   "metadata": {},
   "outputs": [],
   "source": [
    "def leaky_relu(z,a): \n",
    "    return relu(z) - a * relu(-z)"
   ]
  },
  {
   "cell_type": "code",
   "execution_count": 54,
   "metadata": {},
   "outputs": [
    {
     "data": {
      "text/plain": [
       "-0.005"
      ]
     },
     "execution_count": 54,
     "metadata": {},
     "output_type": "execute_result"
    }
   ],
   "source": [
    "leaky_relu(-5,0.001)"
   ]
  },
  {
   "cell_type": "code",
   "execution_count": null,
   "metadata": {},
   "outputs": [],
   "source": []
  }
 ],
 "metadata": {
  "kernelspec": {
   "display_name": "Python 3",
   "language": "python",
   "name": "python3"
  },
  "language_info": {
   "codemirror_mode": {
    "name": "ipython",
    "version": 3
   },
   "file_extension": ".py",
   "mimetype": "text/x-python",
   "name": "python",
   "nbconvert_exporter": "python",
   "pygments_lexer": "ipython3",
   "version": "3.7.9"
  }
 },
 "nbformat": 4,
 "nbformat_minor": 4
}
